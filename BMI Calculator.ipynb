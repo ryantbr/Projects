{
 "cells": [
  {
   "cell_type": "code",
   "execution_count": 7,
   "metadata": {},
   "outputs": [
    {
     "data": {
      "text/plain": [
       "'Your BMI is 31.2. You are obese, be careful!'"
      ]
     },
     "execution_count": 7,
     "metadata": {},
     "output_type": "execute_result"
    }
   ],
   "source": [
    "#BMI Calculator\n",
    "\n",
    "#To derive BMI: Weight(kg)/Height**2(m)\n",
    "\n",
    "def bmi_calc():\n",
    "\n",
    "    height = float(input(\"What is your height?\"))\n",
    "    weight = float(input(\"What is your weight?\"))\n",
    "\n",
    "    BMI = float(weight/(height**2))\n",
    "\n",
    "    if BMI < 18.5:\n",
    "        return(f\"Your BMI is {round(BMI, 1)}. You are underweight!\")\n",
    "    elif 18.5 <= BMI <= 24.9:\n",
    "        return(f\"Your BMI is {round(BMI, 1)}. You are healthy!\")\n",
    "    elif 24.9 < BMI <= 29.9:\n",
    "        return(f\"Your BMI is {round(BMI, 1)}. You are overweight!\")\n",
    "    else:\n",
    "        return(f\"Your BMI is {round(BMI, 1)}. You are obese, be careful!\")\n",
    "\n",
    "\n",
    "bmi_calc()\n"
   ]
  }
 ],
 "metadata": {
  "kernelspec": {
   "display_name": "Python 3",
   "language": "python",
   "name": "python3"
  },
  "language_info": {
   "codemirror_mode": {
    "name": "ipython",
    "version": 3
   },
   "file_extension": ".py",
   "mimetype": "text/x-python",
   "name": "python",
   "nbconvert_exporter": "python",
   "pygments_lexer": "ipython3",
   "version": "3.10.2"
  },
  "orig_nbformat": 4
 },
 "nbformat": 4,
 "nbformat_minor": 2
}
