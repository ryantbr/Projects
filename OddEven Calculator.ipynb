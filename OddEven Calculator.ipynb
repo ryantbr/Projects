{
 "cells": [
  {
   "cell_type": "code",
   "execution_count": 5,
   "metadata": {},
   "outputs": [
    {
     "data": {
      "text/plain": [
       "'50.0% of your integers are even numbers. 50.0% of your integers are odd numbers.'"
      ]
     },
     "execution_count": 5,
     "metadata": {},
     "output_type": "execute_result"
    }
   ],
   "source": [
    "#Odd-Even Calculator\n",
    "\n",
    "#Prompt user for integers, calculate %age of odd and even numbers\n",
    "\n",
    "def oddeven():\n",
    "\n",
    "    x = int(input(\"How many digits?\"))\n",
    "    num_list = []\n",
    "    even_count = 0\n",
    "    odd_count = 0\n",
    "\n",
    "    for i in range(0, x):\n",
    "        num = int(input(\"Give me a number.\"))\n",
    "        num_list.append(num)\n",
    "\n",
    "        if num % 2 == 0:\n",
    "            even_count += 1\n",
    "        else:\n",
    "            odd_count += 1\n",
    "\n",
    "    even_percent = even_count/len(num_list) * 100\n",
    "    odd_percent = 100 - even_percent\n",
    "\n",
    "    return (f\"{even_percent}% of your integers are even numbers. {odd_percent}% of your integers are odd numbers.\")\n",
    "\n",
    "\n",
    "\n",
    "oddeven()\n",
    "\n"
   ]
  }
 ],
 "metadata": {
  "kernelspec": {
   "display_name": "Python 3",
   "language": "python",
   "name": "python3"
  },
  "language_info": {
   "codemirror_mode": {
    "name": "ipython",
    "version": 3
   },
   "file_extension": ".py",
   "mimetype": "text/x-python",
   "name": "python",
   "nbconvert_exporter": "python",
   "pygments_lexer": "ipython3",
   "version": "3.10.2"
  },
  "orig_nbformat": 4
 },
 "nbformat": 4,
 "nbformat_minor": 2
}
